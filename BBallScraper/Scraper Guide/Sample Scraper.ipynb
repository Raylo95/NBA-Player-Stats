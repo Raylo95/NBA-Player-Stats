{
 "cells": [
  {
   "cell_type": "code",
   "execution_count": 1,
   "metadata": {},
   "outputs": [],
   "source": [
    "import pandas as pd\n",
    "import numpy as np\n",
    "import requests\n",
    "from bs4 import BeautifulSoup"
   ]
  },
  {
   "cell_type": "markdown",
   "metadata": {},
   "source": [
    "# Source Code for the functions\n"
   ]
  },
  {
   "cell_type": "code",
   "execution_count": 18,
   "metadata": {},
   "outputs": [],
   "source": [
    "###Pulling Per game stats###\n",
    "\n",
    "def player_pg(years):\n",
    "   \n",
    "    for i in years:\n",
    "       # Get the corresponding url and parse it \n",
    "        years=years        \n",
    "        url = 'https://www.basketball-reference.com/leagues/NBA_{}_per_game.html'.format(i)\n",
    "        source = requests.get(url).text\n",
    "        soup = BeautifulSoup(source,'lxml')\n",
    "        \n",
    "        #Get the header and rows into two separate list\n",
    "        headers = [th.getText() for th in soup.findAll('tr', limit=2)[0].findAll('th')]\n",
    "        headers = headers[1:]\n",
    "        \n",
    "        rows = soup.findAll('tr')[1:]\n",
    "        player_stats = [[td.getText() for td in rows[i].findAll('td')]\n",
    "            for i in range(len(rows))]\n",
    "        \n",
    "        #Creating the stats dataframe and getting rid of completely empty rows that were\n",
    "        #included and replace remainding NaN values with 0. This is because of how Basketball Reference sets their tables up\n",
    "        stats = pd.DataFrame(player_stats, columns = headers)\n",
    "        stats = stats.replace('',np.nan)\n",
    "        stats = stats.dropna(subset=['Player'])\n",
    "        stats = stats.fillna(0)\n",
    "        \n",
    "        \n",
    "        #Change the numerical columns from objects to floats and create a csv \n",
    "        float_col = [ 'Age', 'G', 'GS', 'MP', 'FG', 'FGA', 'FG%', '3P',\n",
    "       '3PA', '3P%', '2P', '2PA', '2P%', 'eFG%', 'FT', 'FTA', 'FT%', 'ORB',\n",
    "       'DRB', 'TRB', 'AST', 'STL', 'BLK', 'TOV', 'PF', 'PTS']\n",
    "        \n",
    "        stats.insert(1,'Year',i)\n",
    "\n",
    "        stats[float_col] = stats[float_col].astype(float)\n",
    "        csv = '{}_players_pgs.csv'.format(i)\n",
    "        stats.to_csv(csv,index=False)\n",
    "        \n",
    "    return\n",
    "        "
   ]
  },
  {
   "cell_type": "code",
   "execution_count": null,
   "metadata": {},
   "outputs": [],
   "source": [
    "###Pulling totals stats###\n",
    "\n",
    "def player_tot(years):\n",
    "    for i in years:\n",
    "       # Get the corresponding url and parse it \n",
    "        years=years        \n",
    "        url = 'https://www.basketball-reference.com/leagues/NBA_{}_totals.html'.format(i)\n",
    "        source = requests.get(url).text\n",
    "        soup = BeautifulSoup(source,'lxml')\n",
    "        \n",
    "        #Get the header and rows into two separate list\n",
    "        headers = [th.getText() for th in soup.findAll('tr', limit=2)[0].findAll('th')]\n",
    "        headers = headers[1:]\n",
    "        \n",
    "        rows = soup.findAll('tr')[1:]\n",
    "        player_stats = [[td.getText() for td in rows[i].findAll('td')]\n",
    "            for i in range(len(rows))]\n",
    "        \n",
    "        #Creating the stats dataframe and getting rid of completely empty rows that were\n",
    "        #included and replace remainding NaN values with 0. This is because of how Basketball Reference sets their tables up\n",
    "        stats = pd.DataFrame(player_stats, columns = headers)\n",
    "        stats = stats.replace('',np.nan)\n",
    "        stats = stats.dropna(subset=['Player'])\n",
    "        stats = stats.fillna(0)\n",
    "        \n",
    "        \n",
    "        #Change the numerical columns from objects to floats and create a csv \n",
    "        float_col = [ 'Age', 'G', 'GS', 'MP', 'FG', 'FGA', 'FG%', '3P',\n",
    "       '3PA', '3P%', '2P', '2PA', '2P%', 'eFG%', 'FT', 'FTA', 'FT%', 'ORB',\n",
    "       'DRB', 'TRB', 'AST', 'STL', 'BLK', 'TOV', 'PF', 'PTS']\n",
    "        \n",
    "        stats.insert(1,'Year',i)\n",
    "\n",
    "        stats[float_col] = stats[float_col].astype(float)\n",
    "        csv = '{}_players_tot.csv'.format(i)\n",
    "        stats.to_csv(csv,index=False)\n",
    "        \n",
    "    return\n",
    "        "
   ]
  },
  {
   "cell_type": "markdown",
   "metadata": {},
   "source": [
    "# How to Pull Data"
   ]
  },
  {
   "cell_type": "code",
   "execution_count": 1,
   "metadata": {},
   "outputs": [],
   "source": [
    "### Either copy and paste functions or download Player_Scrapper.py\n",
    "from Player_Scrapper import *\n",
    "import numpy as np"
   ]
  },
  {
   "cell_type": "code",
   "execution_count": 8,
   "metadata": {},
   "outputs": [],
   "source": [
    "#If pulling for one year make sure to have the year as a list\n",
    "year = [2020]\n",
    "\n",
    "#If using mutiple years you want to create a list\n",
    "years = np.arange(2010,2021,1)\n",
    "years = list(years)"
   ]
  },
  {
   "cell_type": "code",
   "execution_count": null,
   "metadata": {},
   "outputs": [],
   "source": [
    "# 'years' is the only requirement and it needs a list of years\n",
    "player_tot(years=year)\n",
    "\n",
    "player_pg(years=year)"
   ]
  },
  {
   "cell_type": "markdown",
   "metadata": {},
   "source": [
    "# How to Add All Data to One Frame\n"
   ]
  },
  {
   "cell_type": "code",
   "execution_count": 23,
   "metadata": {},
   "outputs": [],
   "source": [
    "import pandas as pd\n",
    "import numpy as np\n",
    "import glob"
   ]
  },
  {
   "cell_type": "code",
   "execution_count": 3,
   "metadata": {},
   "outputs": [],
   "source": [
    "###Used to combined all scraped files###\n",
    "\n",
    "path = 'use given path' \n",
    "all_files = glob.glob(path + \"/*.csv\")\n",
    "\n",
    "li = []\n",
    "\n",
    "for filename in all_files:\n",
    "    df = pd.read_csv(filename, index_col=None, header=0)\n",
    "    li.append(df)\n",
    "\n",
    "frame = pd.concat(li, axis=0, ignore_index=True)"
   ]
  },
  {
   "cell_type": "code",
   "execution_count": 32,
   "metadata": {},
   "outputs": [],
   "source": [
    "frame.to_csv('data.csv',index=False)"
   ]
  }
 ],
 "metadata": {
  "kernelspec": {
   "display_name": "Python 3",
   "language": "python",
   "name": "python3"
  },
  "language_info": {
   "codemirror_mode": {
    "name": "ipython",
    "version": 3
   },
   "file_extension": ".py",
   "mimetype": "text/x-python",
   "name": "python",
   "nbconvert_exporter": "python",
   "pygments_lexer": "ipython3",
   "version": "3.7.4"
  }
 },
 "nbformat": 4,
 "nbformat_minor": 2
}
